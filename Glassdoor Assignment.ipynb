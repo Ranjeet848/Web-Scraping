{
 "cells": [
  {
   "cell_type": "code",
   "execution_count": 1,
   "metadata": {},
   "outputs": [],
   "source": [
    "#importing required libraries\n",
    "import pandas as pd\n",
    "from bs4 import BeautifulSoup\n",
    "import requests\n",
    "import re"
   ]
  },
  {
   "cell_type": "code",
   "execution_count": 2,
   "metadata": {},
   "outputs": [],
   "source": [
    "page3=requests.get('https://www.glassdoor.co.in/Job/noida-data-scientist-jobs-SRCH_IL.0,5_IC4477468_KO6,20.htm')"
   ]
  },
  {
   "cell_type": "code",
   "execution_count": 3,
   "metadata": {},
   "outputs": [
    {
     "data": {
      "text/plain": [
       "b'<!DOCTYPE html>\\n            <!DOCTYPE html>\\n            <html lang=\"en\" xmlns:fb=\"http://www.facebook.com/2008/fbml\" xmlns:og=\"http://opengraph.org/schema/\">\\n                <head>\\n                <title>Apache Tomcat - Error report</title>\\n\\n                \\n                \\n                \\n                \\n\\n                \\n                \\n\\n                \\n                \\n\\n                <link href=\"/jobSearch/static/css/gd-jobSearch.css?v=e345a\" rel=\"stylesheet\" media=\"all\"/><link href=\"/jobSearch/static/css/gd-vendor.bundle.css?v=e345a\" rel=\"stylesheet\" media=\"all\"/>\\n                <script defer type=\"text/javascript\" src=\"/jobSearch/static/js/gd-vendor.bundle.js?v=e345a\"></script><script defer type=\"text/javascript\" src=\"/jobSearch/static/js/gd-jobSearch.bundle.js?v=e345a\"></script>\\n\\n                \\n                \\n                \\n            </head>\\n                <body  ><h1>HTTP Status 403 - Bots not allowed</h1><div class=\"line\"></div><p><b>type</b> Status report</p><p><b>message</b> <u>Bots not allowed</u></p><p><b>description</b> <u>Access to the specified resource has been forbidden.</u></p><hr class=\"line\"><h3>Apache Tomcat</h3></body>\\n            </html>\\n        '"
      ]
     },
     "execution_count": 3,
     "metadata": {},
     "output_type": "execute_result"
    }
   ],
   "source": [
    "page3.content"
   ]
  },
  {
   "cell_type": "code",
   "execution_count": 5,
   "metadata": {},
   "outputs": [],
   "source": [
    "soup=BeautifulSoup(page3.content,'html.parser')"
   ]
  },
  {
   "cell_type": "code",
   "execution_count": 6,
   "metadata": {},
   "outputs": [
    {
     "name": "stdout",
     "output_type": "stream",
     "text": [
      "<!DOCTYPE html>\n",
      "<!DOCTYPE html>\n",
      "<html lang=\"en\" xmlns:fb=\"http://www.facebook.com/2008/fbml\" xmlns:og=\"http://opengraph.org/schema/\">\n",
      " <head>\n",
      "  <title>\n",
      "   Apache Tomcat - Error report\n",
      "  </title>\n",
      "  <link href=\"/jobSearch/static/css/gd-jobSearch.css?v=e345a\" media=\"all\" rel=\"stylesheet\"/>\n",
      "  <link href=\"/jobSearch/static/css/gd-vendor.bundle.css?v=e345a\" media=\"all\" rel=\"stylesheet\"/>\n",
      "  <script defer=\"\" src=\"/jobSearch/static/js/gd-vendor.bundle.js?v=e345a\" type=\"text/javascript\">\n",
      "  </script>\n",
      "  <script defer=\"\" src=\"/jobSearch/static/js/gd-jobSearch.bundle.js?v=e345a\" type=\"text/javascript\">\n",
      "  </script>\n",
      " </head>\n",
      " <body>\n",
      "  <h1>\n",
      "   HTTP Status 403 - Bots not allowed\n",
      "  </h1>\n",
      "  <div class=\"line\">\n",
      "  </div>\n",
      "  <p>\n",
      "   <b>\n",
      "    type\n",
      "   </b>\n",
      "   Status report\n",
      "  </p>\n",
      "  <p>\n",
      "   <b>\n",
      "    message\n",
      "   </b>\n",
      "   <u>\n",
      "    Bots not allowed\n",
      "   </u>\n",
      "  </p>\n",
      "  <p>\n",
      "   <b>\n",
      "    description\n",
      "   </b>\n",
      "   <u>\n",
      "    Access to the specified resource has been forbidden.\n",
      "   </u>\n",
      "  </p>\n",
      "  <hr class=\"line\"/>\n",
      "  <h3>\n",
      "   Apache Tomcat\n",
      "  </h3>\n",
      " </body>\n",
      "</html>\n",
      "\n"
     ]
    }
   ],
   "source": [
    "print(soup.prettify())"
   ]
  },
  {
   "cell_type": "code",
   "execution_count": 7,
   "metadata": {},
   "outputs": [],
   "source": [
    "company_names=[]\n",
    "number_of_days=[]\n",
    "Ratings=[]"
   ]
  },
  {
   "cell_type": "code",
   "execution_count": 10,
   "metadata": {},
   "outputs": [
    {
     "data": {
      "text/plain": [
       "[]"
      ]
     },
     "execution_count": 10,
     "metadata": {},
     "output_type": "execute_result"
    }
   ],
   "source": [
    "#Lets extract the company data\n",
    "companies=soup.find_all('span',class_='IHS Markit')\n",
    "companies[0:5]"
   ]
  },
  {
   "cell_type": "code",
   "execution_count": 11,
   "metadata": {},
   "outputs": [],
   "source": [
    "for i in companies:\n",
    "    company_names.append(i.get_text().replace('\\n',' '))\n",
    "    company_names[0:5]"
   ]
  },
  {
   "cell_type": "code",
   "execution_count": 12,
   "metadata": {},
   "outputs": [
    {
     "name": "stdout",
     "output_type": "stream",
     "text": [
      "[]\n"
     ]
    }
   ],
   "source": [
    "print(companies)"
   ]
  },
  {
   "cell_type": "code",
   "execution_count": 17,
   "metadata": {},
   "outputs": [
    {
     "data": {
      "text/plain": [
       "[]"
      ]
     },
     "execution_count": 17,
     "metadata": {},
     "output_type": "execute_result"
    }
   ],
   "source": [
    "#Lets extract the number of days\n",
    "number_of_days=soup.find_all('div', class_='job-age')\n",
    "number_of_days[0:8]"
   ]
  },
  {
   "cell_type": "code",
   "execution_count": 18,
   "metadata": {},
   "outputs": [],
   "source": [
    "for i in number_of_days:\n",
    "    number_of_days.append(i.get_text())\n",
    "    number_of_days[0:8]"
   ]
  },
  {
   "cell_type": "code",
   "execution_count": 19,
   "metadata": {},
   "outputs": [
    {
     "name": "stdout",
     "output_type": "stream",
     "text": [
      "[]\n"
     ]
    }
   ],
   "source": [
    "print(number_of_days)"
   ]
  },
  {
   "cell_type": "code",
   "execution_count": 21,
   "metadata": {},
   "outputs": [
    {
     "data": {
      "text/plain": [
       "[]"
      ]
     },
     "execution_count": 21,
     "metadata": {},
     "output_type": "execute_result"
    }
   ],
   "source": [
    "#Lets extract the rating\n",
    "ratings=soup.find_all('span',class_='compactStars ')\n",
    "ratings[0:10]"
   ]
  },
  {
   "cell_type": "code",
   "execution_count": 22,
   "metadata": {},
   "outputs": [],
   "source": [
    "for i in ratings:\n",
    "    Ratings.append(i.get_text())\n",
    "    Ratings[:10]"
   ]
  },
  {
   "cell_type": "code",
   "execution_count": 23,
   "metadata": {},
   "outputs": [
    {
     "name": "stdout",
     "output_type": "stream",
     "text": [
      "[]\n"
     ]
    }
   ],
   "source": [
    "print(ratings)"
   ]
  },
  {
   "cell_type": "code",
   "execution_count": 24,
   "metadata": {},
   "outputs": [
    {
     "name": "stdout",
     "output_type": "stream",
     "text": [
      "0 0 0\n"
     ]
    }
   ],
   "source": [
    "print(len(company_names),len(number_of_days),len(Ratings))"
   ]
  },
  {
   "cell_type": "code",
   "execution_count": 25,
   "metadata": {},
   "outputs": [],
   "source": [
    "import pandas as pd\n",
    "jobs=pd.DataFrame({})\n",
    "jobs['company']=company_names[:10]\n",
    "jobs['number_of_days']=number_of_days[:10]\n",
    "jobs['Ratings']=Ratings[:10]"
   ]
  },
  {
   "cell_type": "code",
   "execution_count": 26,
   "metadata": {},
   "outputs": [
    {
     "data": {
      "text/html": [
       "<div>\n",
       "<style scoped>\n",
       "    .dataframe tbody tr th:only-of-type {\n",
       "        vertical-align: middle;\n",
       "    }\n",
       "\n",
       "    .dataframe tbody tr th {\n",
       "        vertical-align: top;\n",
       "    }\n",
       "\n",
       "    .dataframe thead th {\n",
       "        text-align: right;\n",
       "    }\n",
       "</style>\n",
       "<table border=\"1\" class=\"dataframe\">\n",
       "  <thead>\n",
       "    <tr style=\"text-align: right;\">\n",
       "      <th></th>\n",
       "      <th>company</th>\n",
       "      <th>number_of_days</th>\n",
       "      <th>Ratings</th>\n",
       "    </tr>\n",
       "  </thead>\n",
       "  <tbody>\n",
       "  </tbody>\n",
       "</table>\n",
       "</div>"
      ],
      "text/plain": [
       "Empty DataFrame\n",
       "Columns: [company, number_of_days, Ratings]\n",
       "Index: []"
      ]
     },
     "execution_count": 26,
     "metadata": {},
     "output_type": "execute_result"
    }
   ],
   "source": [
    "jobs"
   ]
  },
  {
   "cell_type": "code",
   "execution_count": null,
   "metadata": {},
   "outputs": [],
   "source": []
  }
 ],
 "metadata": {
  "kernelspec": {
   "display_name": "Python 3",
   "language": "python",
   "name": "python3"
  },
  "language_info": {
   "codemirror_mode": {
    "name": "ipython",
    "version": 3
   },
   "file_extension": ".py",
   "mimetype": "text/x-python",
   "name": "python",
   "nbconvert_exporter": "python",
   "pygments_lexer": "ipython3",
   "version": "3.7.3"
  }
 },
 "nbformat": 4,
 "nbformat_minor": 2
}
